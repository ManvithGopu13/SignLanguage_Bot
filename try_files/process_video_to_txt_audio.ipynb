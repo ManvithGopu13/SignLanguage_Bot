{
 "cells": [
  {
   "cell_type": "code",
   "execution_count": 1,
   "id": "13e972cf",
   "metadata": {},
   "outputs": [],
   "source": [
    "import cv2\n",
    "import numpy as np\n",
    "from gtts import gTTS"
   ]
  },
  {
   "cell_type": "code",
   "execution_count": 2,
   "id": "346eda04",
   "metadata": {},
   "outputs": [],
   "source": [
    "def extract_frames(video_path, max_frames = 30):\n",
    "    cap = cv2.VideoCapture(video_path)\n",
    "    frames = []\n",
    "    count = 0\n",
    "    while cap.isOpened() and count < max_frames:\n",
    "        ret , frame = cap.read()\n",
    "        if not ret:\n",
    "            break\n",
    "        frame = cv2.resize(frame, (224, 224)) # Resizing for model input\n",
    "        frames.append(frame)\n",
    "        count += 1\n",
    "    cap.release()\n",
    "    return np.array(frames)\n",
    "\n",
    "    "
   ]
  },
  {
   "cell_type": "code",
   "execution_count": 3,
   "id": "d431f6ba",
   "metadata": {},
   "outputs": [],
   "source": [
    "def predict_text_from_frames(frames):\n",
    "    #TODO: Replace this with Gemma3 model inference\n",
    "    return \"hello, how are you\""
   ]
  },
  {
   "cell_type": "code",
   "execution_count": 4,
   "id": "27edefcc",
   "metadata": {},
   "outputs": [],
   "source": [
    "def generate_speech_from_text(text, output_path = 'speech.mp3'):\n",
    "    tts = gTTS(text = text, lang = 'en')\n",
    "    tts.save(output_path)\n",
    "    return output_path"
   ]
  },
  {
   "cell_type": "code",
   "execution_count": null,
   "id": "3d3ddbcc",
   "metadata": {},
   "outputs": [],
   "source": []
  }
 ],
 "metadata": {
  "kernelspec": {
   "display_name": "Python 3",
   "language": "python",
   "name": "python3"
  },
  "language_info": {
   "codemirror_mode": {
    "name": "ipython",
    "version": 3
   },
   "file_extension": ".py",
   "mimetype": "text/x-python",
   "name": "python",
   "nbconvert_exporter": "python",
   "pygments_lexer": "ipython3",
   "version": "3.12.0"
  }
 },
 "nbformat": 4,
 "nbformat_minor": 5
}
