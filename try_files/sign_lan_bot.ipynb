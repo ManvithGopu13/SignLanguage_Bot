{
 "cells": [
  {
   "cell_type": "code",
   "execution_count": 1,
   "id": "05041edd",
   "metadata": {},
   "outputs": [
    {
     "data": {
      "text/plain": [
       "True"
      ]
     },
     "execution_count": 1,
     "metadata": {},
     "output_type": "execute_result"
    }
   ],
   "source": [
    "from telegram import Update\n",
    "from telegram.ext import ApplicationBuilder, CommandHandler, MessageHandler, filters, ContextTypes\n",
    "import os\n",
    "from dotenv import load_dotenv\n",
    "\n",
    "load_dotenv()"
   ]
  },
  {
   "cell_type": "code",
   "execution_count": 2,
   "id": "68a1c63b",
   "metadata": {},
   "outputs": [],
   "source": [
    "TELEGRAM_BOT_TOKEN = os.getenv(\"TELEGRAM_BOT_TOKEN\")"
   ]
  },
  {
   "cell_type": "code",
   "execution_count": 3,
   "id": "f7164788",
   "metadata": {},
   "outputs": [],
   "source": [
    "async def start(update: Update, context: ContextTypes.DEFAULT_TYPE):\n",
    "    await update.message.reply_text(\"Hi! I'm your Sign Language Translation Bot.\\n\\nYou can:\\n📹 Send a video (sign language) – I'll translate to text and speech.\\n📝 Send text – I'll send back sign language video.\\n🔊 Send voice – I'll convert it to sign language.\")"
   ]
  },
  {
   "cell_type": "code",
   "execution_count": 4,
   "id": "8234c8ad",
   "metadata": {},
   "outputs": [],
   "source": [
    "async def handle_text(update: Update, context: ContextTypes.DEFAULT_TYPE):\n",
    "    user_text = update.message.text\n",
    "    await update.message.reply_text(f\"Recieved your text: '{user_text}'\\n Generating sign language video...\")\n",
    "\n",
    "    #TODO: Converting text to sign language video\n",
    "\n",
    "    await update.message.reply_text(\"(Sign language video generation comming soon...)\")\n",
    "    "
   ]
  },
  {
   "cell_type": "code",
   "execution_count": 5,
   "id": "df542b0a",
   "metadata": {},
   "outputs": [],
   "source": [
    "async def handle_voice(update: Update, context: ContextTypes.DEFAULT_TYPE):\n",
    "    voice = update.message.voice\n",
    "    file = await context.bot.get_file(voice.file_id)\n",
    "    file_path = f\"downloads/voice_{voice.file_unique_id}.ogg\"\n",
    "    await file.download_to_drive(file_path)\n",
    "\n",
    "    await update.message.reply_text(\"🎧 Voice received!\\n⏳ Converting to text and then sign language video...\")\n",
    "\n",
    "    #TODO: Converting speech to text then to sign \n",
    "\n",
    "    await update.message.reply_text(\"🤖 (Voice-to-sign feature coming soon...)\")\n",
    "    "
   ]
  },
  {
   "cell_type": "code",
   "execution_count": 6,
   "id": "ff33c0c9",
   "metadata": {},
   "outputs": [],
   "source": [
    "async def handle_video(update: Update, context: ContextTypes.DEFAULT_TYPE):\n",
    "    video = update.message.video\n",
    "    file = await context.bot.get_file(video.file_id)\n",
    "    file_path = f\"downloads/video_{video.file_unique_id}.mp4\"\n",
    "    await file.download_to_drive(file_path)\n",
    "\n",
    "    await update.message.reply_text(\"📽️ Video received!\\n⏳ Processing sign language recognition...\")\n",
    "\n",
    "    # TODO: Process video and generate text + speech\n",
    "    await update.message.reply_text(\"🤖 (Sign-to-text and speech feature coming soon...)\")"
   ]
  },
  {
   "cell_type": "code",
   "execution_count": 7,
   "id": "ba4f70a8",
   "metadata": {},
   "outputs": [],
   "source": [
    "async def main():\n",
    "    app = ApplicationBuilder.token(TELEGRAM_BOT_TOKEN).build()\n",
    "\n",
    "    app.add_handler(CommandHandler(\"start\", start))\n",
    "    app.add_handler(MessageHandler(filters.TEXT & ~filters.COMMAND, handle_text))\n",
    "    app.add_handler(MessageHandler(filters.VOICE, handle_voice))\n",
    "    app.add_handler(MessageHandler(filters.VIDEO, handle_video))\n",
    "\n",
    "    print(\"Bot is running...\")\n",
    "    await app.run_polling()"
   ]
  },
  {
   "cell_type": "code",
   "execution_count": 9,
   "id": "37cd79bc",
   "metadata": {},
   "outputs": [],
   "source": [
    "# if __name__ == '__main__':\n",
    "#     import asyncio\n",
    "#     os.makedirs(\"downloads\", exist_ok = True)\n",
    "#     asyncio.run(main())"
   ]
  },
  {
   "cell_type": "code",
   "execution_count": null,
   "id": "96af7589",
   "metadata": {},
   "outputs": [],
   "source": []
  }
 ],
 "metadata": {
  "kernelspec": {
   "display_name": "Python 3",
   "language": "python",
   "name": "python3"
  },
  "language_info": {
   "codemirror_mode": {
    "name": "ipython",
    "version": 3
   },
   "file_extension": ".py",
   "mimetype": "text/x-python",
   "name": "python",
   "nbconvert_exporter": "python",
   "pygments_lexer": "ipython3",
   "version": "3.12.0"
  }
 },
 "nbformat": 4,
 "nbformat_minor": 5
}
